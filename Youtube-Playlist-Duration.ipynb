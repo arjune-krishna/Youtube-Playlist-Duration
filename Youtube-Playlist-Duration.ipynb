{
 "cells": [
  {
   "cell_type": "code",
   "execution_count": 1,
   "id": "07c9d072",
   "metadata": {},
   "outputs": [],
   "source": [
    "from bs4 import BeautifulSoup as bs\n",
    "from selenium import webdriver\n",
    "import requests\n",
    "import datetime"
   ]
  },
  {
   "cell_type": "code",
   "execution_count": 9,
   "id": "0985a37d",
   "metadata": {},
   "outputs": [
    {
     "name": "stdout",
     "output_type": "stream",
     "text": [
      "Enter your URL: https://www.youtube.com/watch?v=OGxgnH8y2NM&list=PLQVvvaa0QuDfKTOs3Keq_kaG2P55YRn5v&index=1\n"
     ]
    }
   ],
   "source": [
    "url = input('Enter your URL: ')\n",
    "browser = webdriver.Chrome()\n",
    "browser.get(url)\n",
    "raw_html = browser.page_source\n",
    "parsed = bs(raw_html, 'html.parser')"
   ]
  },
  {
   "cell_type": "code",
   "execution_count": 5,
   "id": "19493e4e",
   "metadata": {},
   "outputs": [],
   "source": [
    "def playlist_time(parsed):      \n",
    "        parsable = parsed.find_all('div', class_='playlist-items style-scope ytd-playlist-panel-renderer')[1].find_all('ytd-thumbnail-overlay-time-status-renderer', class_='style-scope ytd-thumbnail')\n",
    "        times = [i.text.strip().split(':') for i in parsable]\n",
    "\n",
    "        converted = []\n",
    "        for hr in times:\n",
    "            if len(hr) == 3:\n",
    "                hr[0] = int(hr[0])*60*60\n",
    "                hr[1] = int(hr[1])*60\n",
    "                hr[2] = int(hr[2])\n",
    "                converted.append(hr[0] + hr[1] + hr[2])\n",
    "            else:\n",
    "                hr[0] = int(hr[0])*60\n",
    "                hr[1] = int(hr[1])\n",
    "                converted.append(hr[0] + hr[1])\n",
    "\n",
    "        secs = sum(converted)\n",
    "        return str(datetime.timedelta(seconds=secs))"
   ]
  },
  {
   "cell_type": "code",
   "execution_count": 10,
   "id": "64161645",
   "metadata": {},
   "outputs": [
    {
     "data": {
      "text/plain": [
       "'18:47:29'"
      ]
     },
     "execution_count": 10,
     "metadata": {},
     "output_type": "execute_result"
    }
   ],
   "source": [
    "playlist_time(parsed)"
   ]
  },
  {
   "cell_type": "code",
   "execution_count": null,
   "id": "fef68102",
   "metadata": {},
   "outputs": [],
   "source": []
  }
 ],
 "metadata": {
  "kernelspec": {
   "display_name": "Python 3 (ipykernel)",
   "language": "python",
   "name": "python3"
  },
  "language_info": {
   "codemirror_mode": {
    "name": "ipython",
    "version": 3
   },
   "file_extension": ".py",
   "mimetype": "text/x-python",
   "name": "python",
   "nbconvert_exporter": "python",
   "pygments_lexer": "ipython3",
   "version": "3.9.7"
  }
 },
 "nbformat": 4,
 "nbformat_minor": 5
}
